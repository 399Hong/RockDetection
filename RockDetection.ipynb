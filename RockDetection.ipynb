{
 "cells": [
  {
   "cell_type": "code",
   "execution_count": 11,
   "source": [
    "\n"
   ],
   "outputs": [
    {
     "output_type": "stream",
     "name": "stdout",
     "text": [
      "Requirement already satisfied: opencv_python in /Library/Frameworks/Python.framework/Versions/3.9/lib/python3.9/site-packages (4.5.3.56)\n",
      "Requirement already satisfied: numpy>=1.21.0 in /Library/Frameworks/Python.framework/Versions/3.9/lib/python3.9/site-packages (from opencv_python) (1.21.2)\n",
      "\u001b[33mWARNING: You are using pip version 21.2.2; however, version 21.2.4 is available.\n",
      "You should consider upgrading via the '/Library/Frameworks/Python.framework/Versions/3.9/bin/python3 -m pip install --upgrade pip' command.\u001b[0m\n"
     ]
    }
   ],
   "metadata": {}
  },
  {
   "cell_type": "code",
   "execution_count": 43,
   "source": [
    "import numpy as np\n",
    "import cv2\n",
    "# import original image\n",
    "\"\"\"please only change the input file on the next line\"\"\"\n",
    "org = \"1min.jpg\" # org is the name of the input file\n",
    "\n",
    "\"\"\"\"\"\"\n",
    "img = cv2.imread(org)\n",
    "cropped = img [1500:2250,0:4000]\n",
    "\n",
    "\"\"\"\n",
    "uniforming the green stone.\n",
    "Make the color of green ston consistent\n",
    "\"\"\"\n",
    "\n",
    "img = cv2.cvtColor(img,cv2.COLOR_BGR2RGB)\n",
    "twoDimage = img.reshape((-1,3))\n",
    "twoDimage = np.float32(twoDimage)\n",
    "\n",
    "criteria = (cv2.TERM_CRITERIA_EPS + cv2.TERM_CRITERIA_MAX_ITER, 10, 1.0)\n",
    "# number of colors to preserve\n",
    "K = 17\n",
    "attempts=8\n",
    "\n",
    "ret,label,center=cv2.kmeans(twoDimage,K,None,criteria,attempts,cv2.KMEANS_PP_CENTERS)\n",
    "center = np.uint8(center)\n",
    "res = center[label.flatten()]\n",
    "res = res.reshape((img.shape))\n",
    "\n",
    "# closing some gaps between stons to blur the boundary\n",
    "kernel = cv2.getStructuringElement(cv2.MORPH_RECT, (5, 5))\n",
    "result = cv2.morphologyEx(res, cv2.MORPH_CLOSE, kernel)\n",
    "print(res.shape)\n",
    "cv2.imwrite(\"test_out.jpg\",res[1500:2250,0:4000])\n",
    "\n",
    "img = cv2.imread(\"test_out.jpg\")\n",
    "\n",
    "#filtering out other color\n",
    "#perserving green stone only\n",
    "rgb_img = cv2.cvtColor(img, cv2.COLOR_BGR2RGB)\n",
    "hsv_img = cv2.cvtColor(rgb_img, cv2.COLOR_RGB2HSV)\n",
    "#specifiying green range\n",
    "light_green = (50, 50, 50)\n",
    "dark_green = (70, 255, 255)\n",
    "mask = cv2.inRange(hsv_img, light_green, dark_green)\n",
    "green = cv2.bitwise_and(img, img, mask=mask)\n",
    "\n",
    "\n"
   ],
   "outputs": [
    {
     "output_type": "stream",
     "name": "stdout",
     "text": [
      "(3000, 4000, 3)\n"
     ]
    }
   ],
   "metadata": {}
  },
  {
   "cell_type": "code",
   "execution_count": 44,
   "source": [
    "\"\"\"\n",
    "uniforming the red stone.\n",
    "Make the color of red ston consistent\n",
    "\"\"\"\n",
    "\n",
    "\n",
    "img = cropped \n",
    "img_hsv=cv2.cvtColor(img, cv2.COLOR_BGR2HSV)\n",
    "\n",
    "# specify two color filtering masks\n",
    "\n",
    "lower_red = np.array([0,50,50])\n",
    "upper_red = np.array([10,255,255])\n",
    "mask0 = cv2.inRange(img_hsv, lower_red, upper_red)\n",
    "\n",
    "# specify two color filtering masks\n",
    "lower_red = np.array([170,50,50])\n",
    "upper_red = np.array([180,255,255])\n",
    "mask1 = cv2.inRange(img_hsv, lower_red, upper_red)\n",
    "\n",
    "\n",
    "mask = mask0+mask1\n",
    "\n",
    "\n",
    "output_img = img.copy()\n",
    "output_img[np.where(mask==0)] = 0\n",
    "\n",
    "\n",
    "red = img_hsv.copy()\n",
    "red[np.where(mask==0)] = 0\n",
    "\n",
    "\n",
    "\n"
   ],
   "outputs": [],
   "metadata": {}
  },
  {
   "cell_type": "code",
   "execution_count": 45,
   "source": [
    "# step 3.1 edge detection on green\n",
    "img = green\n",
    "# Display original image\n",
    "\n",
    "\n",
    "# Convert to graycsale\n",
    "img_gray = cv2.cvtColor(img, cv2.COLOR_BGR2GRAY)\n",
    "# Blur the image for better edge detection\n",
    "img_blur = cv2.GaussianBlur(img_gray, (3,3), 0) \n",
    "\n",
    "# Canny Edge Detection\n",
    "edges = cv2.Canny(image=img_blur, threshold1=100, threshold2=200) \n",
    "\n",
    "# change edge color to green \n",
    "g = cv2.cvtColor(edges, cv2.COLOR_GRAY2BGR)\n",
    "g *= np.array((0,1,0),np.uint8)\n",
    "\n",
    "cv2.imwrite(\"green.jpg\",g)\n",
    "# draw edges on original green only picture\n",
    "#out = np.bitwise_or(img, g)\n",
    "\n",
    "\n",
    "# step 3.2 edge detection on red\n",
    "img = red\n",
    "# Display original image\n",
    "\n",
    "\n",
    "# Convert to graycsale\n",
    "img_gray = cv2.cvtColor(img, cv2.COLOR_BGR2GRAY)\n",
    "# Blur the image for better edge detection\n",
    "img_blur = cv2.GaussianBlur(img_gray, (3,3), 0) \n",
    "\n",
    "# Canny Edge Detection\n",
    "edges = cv2.Canny(image=img_blur, threshold1=100, threshold2=200) \n",
    "\n",
    "# change edge color to green \n",
    "r = cv2.cvtColor(edges, cv2.COLOR_GRAY2BGR)\n",
    "r *= np.array((0,1,1),np.uint8)\n",
    "\n",
    "cv2.imwrite(\"red.jpg\",r)\n",
    "img = np.bitwise_or(img, r)\n",
    "\n",
    "# step 4 edge drawing on original\n",
    "\n",
    "img = cropped \n",
    "\n",
    "img = np.bitwise_or(img, r)\n",
    "img = np.bitwise_or(img, g)\n",
    "\n",
    "\n",
    "cv2.imwrite(\"final.jpg\",img)\n",
    "print(\"process is finished\")\n",
    "\n",
    "\n"
   ],
   "outputs": [
    {
     "output_type": "stream",
     "name": "stdout",
     "text": [
      "process is finished\n"
     ]
    }
   ],
   "metadata": {}
  },
  {
   "cell_type": "code",
   "execution_count": null,
   "source": [],
   "outputs": [],
   "metadata": {}
  },
  {
   "cell_type": "code",
   "execution_count": null,
   "source": [],
   "outputs": [],
   "metadata": {}
  },
  {
   "cell_type": "code",
   "execution_count": null,
   "source": [],
   "outputs": [],
   "metadata": {}
  }
 ],
 "metadata": {
  "kernelspec": {
   "display_name": "Python 3 (ipykernel)",
   "language": "python",
   "name": "python3"
  },
  "language_info": {
   "codemirror_mode": {
    "name": "ipython",
    "version": 3
   },
   "file_extension": ".py",
   "mimetype": "text/x-python",
   "name": "python",
   "nbconvert_exporter": "python",
   "pygments_lexer": "ipython3",
   "version": "3.9.6"
  }
 },
 "nbformat": 4,
 "nbformat_minor": 5
}